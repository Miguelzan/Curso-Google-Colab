{
  "cells": [
    {
      "cell_type": "markdown",
      "metadata": {
        "id": "view-in-github",
        "colab_type": "text"
      },
      "source": [
        "<a href=\"https://colab.research.google.com/github/Miguelzan/Curso-Google-Colab/blob/main/Exerc%C3%ADcios_if.ipynb\" target=\"_parent\"><img src=\"https://colab.research.google.com/assets/colab-badge.svg\" alt=\"Open In Colab\"/></a>"
      ]
    },
    {
      "cell_type": "markdown",
      "metadata": {
        "id": "hndFZkO8DDxu"
      },
      "source": [
        "# Exercícios com if"
      ]
    },
    {
      "cell_type": "markdown",
      "metadata": {
        "id": "YkS7vFNhDDxz"
      },
      "source": [
        "## 1. Cálculo de Bônus\n",
        "\n",
        "- Crie um programa que calcule e dê um print no bônus que os funcionários devem receber segundo a regra:\n",
        "\n",
        "A meta é 1000 vendas.<br> \n",
        "Se o valor de vendas for maior ou igual a meta, o valor do bônus do funcionário é 10% do valor de vendas.<br>\n",
        "Caso contrário o valor de bônus do funcionário é 0.<br>\n",
        "Print o bônus dos 3 funcionários"
      ]
    },
    {
      "cell_type": "code",
      "execution_count": null,
      "metadata": {
        "id": "8e-TL-SFDDx0"
      },
      "outputs": [],
      "source": [
        "vendas_funcionario1 = 1000\n",
        "vendas_funcionario2 = 770\n",
        "vendas_funcionario3 = 2700\n",
        "\n",
        "#crie seu código aqui\n",
        "\n",
        "#Funcionario 1:\n",
        "if vendas_funcionario1 >= 1000:\n",
        "   bonus = vendas_funcionario1 * 0.1\n",
        "   print(f'O primeiro fucionario teve {bonus} de bonus')\n",
        "#Funcionario 2:\n",
        "   if vendas_funcionario2 >= 1000:\n",
        "    bonus = vendas_funcionario2 * 0.1\n",
        "   else:\n",
        "      bonus = 0\n",
        "      print(f'O segundo funcionario teve {bonus} de bonus')\n",
        "#Funcionario 3:\n",
        "   if vendas_funcionario3 >= 1000:\n",
        "    bonus = vendas_funcionario3 * 0.1\n",
        "    print(f'O terceiro funcionario teve {bonus} de bonus')"
      ]
    },
    {
      "cell_type": "raw",
      "metadata": {
        "id": "be-rkU5xDDx2"
      },
      "source": [
        "Resposta:\n",
        "O funcionário 1 ganhou 100 de bônus\n",
        "O funcionário 2 ganhou 0 de bônus\n",
        "O funcionário 3 ganhou 270 de bônus"
      ]
    },
    {
      "cell_type": "markdown",
      "metadata": {
        "id": "e9bNEjviDDx3"
      },
      "source": [
        "## 2. Cálculo de bônus com uma nova regra\n",
        "\n",
        "- Agora, crie um novo código que calcule e dê um print no bônus dos funcionários novamente. Porém há uma nova regra nesse 2º caso:\n",
        "\n",
        "A meta é 1000 vendas<br>\n",
        "Agora, os funcionários que venderem muito acima da meta ganham mais bônus do que os outros. Então o bônus é definido da seguinte forma:<br>\n",
        "\n",
        "- Se vendas funcionário for maior ou igual a 2000, então o bônus é de 15% sobre o valor de vendas\n",
        "- Se vendas funcionário for menor do que 2000 e maior ou igual a 1000, então o bônus é de 10% sobre o valor de vendas\n",
        "- Se vendas funcionário for menos do que 1000 então o bônus do funcionário é de 0.\n",
        "\n",
        "Use as mesmas variáveis de vendas_funcionários"
      ]
    },
    {
      "cell_type": "code",
      "execution_count": null,
      "metadata": {
        "id": "j3rJL-cgDDx4"
      },
      "outputs": [],
      "source": [
        "#crie seu código aqui\n",
        "#obs: há 2 formas de fazer, com if dentro de if ou então com if e elif. Escolha a que você preferir\n",
        "\n",
        "\n",
        "if vendas_funcionario1 >= 1000:\n",
        "    if vendas_funcionario1 >= 2000:\n",
        "        bonus = 0.15 * vendas_funcionario1\n",
        "    else:\n",
        "        bonus = 0.1 * vendas_funcionario1\n",
        "else:\n",
        "    bonus = 0\n",
        "print('O funcionário 1 ganhou {} de bônus'.format(bonus))\n",
        "\n",
        "#2ª maneira -> if e elif\n",
        "\n",
        "if vendas_funcionario2 >= 2000:\n",
        "    bonus = 0.15 * vendas_funcionario2\n",
        "elif vendas_funcionario2 >= 1000:\n",
        "    bonus = 0.1 * vendas_funcionario2\n",
        "else:\n",
        "    bonus = 0\n",
        "print('O funcionário 2 ganhou {} de bônus'.format(bonus))\n",
        "\n",
        "######\n",
        "if vendas_funcionario3 >= 1000:\n",
        "    if vendas_funcionario3 >= 2000:\n",
        "        bonus = 0.15 * vendas_funcionario3\n",
        "    else:\n",
        "        bonus = 0.1 * vendas_funcionario3\n",
        "else:\n",
        "    bonus = 0\n",
        "print('O funcionário 3 ganhou {} de bônus'.format(bonus))"
      ]
    },
    {
      "cell_type": "raw",
      "metadata": {
        "id": "0IQUvNXSDDx5"
      },
      "source": [
        "Resposta:\n",
        "O funcionário 1 ganhou 100 de bônus\n",
        "O funcionário 2 ganhou 0 de bônus\n",
        "O funcionário 3 ganhou 405 de bônus"
      ]
    }
  ],
  "metadata": {
    "kernelspec": {
      "display_name": "Python 3",
      "language": "python",
      "name": "python3"
    },
    "language_info": {
      "codemirror_mode": {
        "name": "ipython",
        "version": 3
      },
      "file_extension": ".py",
      "mimetype": "text/x-python",
      "name": "python",
      "nbconvert_exporter": "python",
      "pygments_lexer": "ipython3",
      "version": "3.8.3"
    },
    "colab": {
      "name": "05.04.01 Exercícios if.ipynb",
      "provenance": [],
      "include_colab_link": true
    }
  },
  "nbformat": 4,
  "nbformat_minor": 0
}