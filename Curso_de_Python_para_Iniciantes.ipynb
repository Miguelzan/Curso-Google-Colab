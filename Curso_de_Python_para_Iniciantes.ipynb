{
  "nbformat": 4,
  "nbformat_minor": 0,
  "metadata": {
    "colab": {
      "name": "Curso de Python para Iniciantes.ipynb",
      "provenance": [],
      "include_colab_link": true
    },
    "kernelspec": {
      "name": "python3",
      "display_name": "Python 3"
    }
  },
  "cells": [
    {
      "cell_type": "markdown",
      "metadata": {
        "id": "view-in-github",
        "colab_type": "text"
      },
      "source": [
        "<a href=\"https://colab.research.google.com/github/Miguelzan/Curso-Google-Colab/blob/main/Curso_de_Python_para_Iniciantes.ipynb\" target=\"_parent\"><img src=\"https://colab.research.google.com/assets/colab-badge.svg\" alt=\"Open In Colab\"/></a>"
      ]
    },
    {
      "cell_type": "markdown",
      "metadata": {
        "id": "yrrP9PJGma_B"
      },
      "source": [
        "###CURSO RÁPIDO DE PYTHON PARA INICIANTES COM GOOGLE COLAB\n"
      ]
    },
    {
      "cell_type": "markdown",
      "metadata": {
        "id": "GlYYu_RQ9xIr"
      },
      "source": [
        "###Olá Mundo"
      ]
    },
    {
      "cell_type": "markdown",
      "metadata": {
        "id": "SZZSM9_29zHO"
      },
      "source": [
        ">Nosso primeiro comando em Python"
      ]
    },
    {
      "cell_type": "code",
      "metadata": {
        "id": "cJ5Idhcf9162"
      },
      "source": [
        "print(\"Olá Mundo\")"
      ],
      "execution_count": null,
      "outputs": []
    },
    {
      "cell_type": "markdown",
      "metadata": {
        "id": "J5UE-f5Q94tF"
      },
      "source": [
        "###Strings"
      ]
    },
    {
      "cell_type": "markdown",
      "metadata": {
        "id": "vPWrwP0i95_J"
      },
      "source": [
        ">Concatenação com operador ``+``"
      ]
    },
    {
      "cell_type": "code",
      "metadata": {
        "id": "3AucCGSQ9-CN"
      },
      "source": [
        "print(\"Curso\" + \" de Python\")"
      ],
      "execution_count": null,
      "outputs": []
    },
    {
      "cell_type": "markdown",
      "metadata": {
        "id": "KUZL7d0s-HWO"
      },
      "source": [
        ">Substituindo valores com ``format()``"
      ]
    },
    {
      "cell_type": "code",
      "metadata": {
        "id": "QltL9Dve-Lld"
      },
      "source": [
        "print(\"Aula {} do Curso de {}\".format(1, \"Python\"))"
      ],
      "execution_count": null,
      "outputs": []
    },
    {
      "cell_type": "markdown",
      "metadata": {
        "id": "o9sn8owX-UBt"
      },
      "source": [
        ">Transformando para minúsculas com ``lower()``"
      ]
    },
    {
      "cell_type": "code",
      "metadata": {
        "id": "Zqxc2rc3-Yhk"
      },
      "source": [
        "print(\"Curso de Python para Iniciantes\".lower())"
      ],
      "execution_count": null,
      "outputs": []
    },
    {
      "cell_type": "markdown",
      "metadata": {
        "id": "zJbO5NZn-f3l"
      },
      "source": [
        ">Transformando para maiúsculas com ``upper``"
      ]
    },
    {
      "cell_type": "code",
      "metadata": {
        "id": "PVahkuHp-k6t"
      },
      "source": [
        "print(\"Curso de Python para Iniciantes\".upper())"
      ],
      "execution_count": null,
      "outputs": []
    },
    {
      "cell_type": "markdown",
      "metadata": {
        "id": "YU3TRNOK-oZ-"
      },
      "source": [
        ">Removendo espaços em branco com ``strip()``"
      ]
    },
    {
      "cell_type": "code",
      "metadata": {
        "id": "O9G-wu7R-r-5"
      },
      "source": [
        "print(\"     Curso de Python para Iniciantes   \".strip())"
      ],
      "execution_count": null,
      "outputs": []
    },
    {
      "cell_type": "markdown",
      "metadata": {
        "id": "v1w8_rbx-1pQ"
      },
      "source": [
        ">O tipo ``str``"
      ]
    },
    {
      "cell_type": "code",
      "metadata": {
        "id": "F2mWfFlr-3kF"
      },
      "source": [
        "type(\"Curso de Python para Iniciantes\")"
      ],
      "execution_count": null,
      "outputs": []
    },
    {
      "cell_type": "markdown",
      "metadata": {
        "id": "rRU7O3L2-6Xd"
      },
      "source": [
        "###Lidando com números e Operadores Matemáticos"
      ]
    },
    {
      "cell_type": "markdown",
      "metadata": {
        "id": "NyJj5Qg9-_u1"
      },
      "source": [
        ">Tipos Numéricos"
      ]
    },
    {
      "cell_type": "code",
      "metadata": {
        "id": "c02YBn3w_B_N"
      },
      "source": [
        "type(2)"
      ],
      "execution_count": null,
      "outputs": []
    },
    {
      "cell_type": "code",
      "metadata": {
        "id": "-MK0N-yx_Ddl"
      },
      "source": [
        "type(2.5)"
      ],
      "execution_count": null,
      "outputs": []
    },
    {
      "cell_type": "markdown",
      "metadata": {
        "id": "X00hZX13_IA9"
      },
      "source": [
        ">Soma"
      ]
    },
    {
      "cell_type": "code",
      "metadata": {
        "id": "9pkCnuMv_JDt"
      },
      "source": [
        "2 + 2"
      ],
      "execution_count": null,
      "outputs": []
    },
    {
      "cell_type": "markdown",
      "metadata": {
        "id": "cXXLxBWM_LX1"
      },
      "source": [
        ">Subtração"
      ]
    },
    {
      "cell_type": "code",
      "metadata": {
        "id": "7MNFeqTV_M2V"
      },
      "source": [
        "10 - 7"
      ],
      "execution_count": null,
      "outputs": []
    },
    {
      "cell_type": "markdown",
      "metadata": {
        "id": "Ck9PpdRs_O0I"
      },
      "source": [
        ">Multiplicação"
      ]
    },
    {
      "cell_type": "code",
      "metadata": {
        "id": "zLoHF31r_QOF"
      },
      "source": [
        "7*3"
      ],
      "execution_count": null,
      "outputs": []
    },
    {
      "cell_type": "markdown",
      "metadata": {
        "id": "8M-v9pgl_Sv9"
      },
      "source": [
        ">Exponenciação"
      ]
    },
    {
      "cell_type": "code",
      "metadata": {
        "id": "TdoAQM3E_U8U"
      },
      "source": [
        "5 ** 2"
      ],
      "execution_count": null,
      "outputs": []
    },
    {
      "cell_type": "markdown",
      "metadata": {
        "id": "AOUU04eD_XsA"
      },
      "source": [
        ">Divisão"
      ]
    },
    {
      "cell_type": "code",
      "metadata": {
        "id": "P2AqeLsr_ZLk"
      },
      "source": [
        "5 / 2"
      ],
      "execution_count": null,
      "outputs": []
    },
    {
      "cell_type": "code",
      "metadata": {
        "id": "wn6gzB1b_cH8"
      },
      "source": [
        "type(5/2)"
      ],
      "execution_count": null,
      "outputs": []
    },
    {
      "cell_type": "markdown",
      "metadata": {
        "id": "GsEi_Peh_lv9"
      },
      "source": [
        ">>Divisão inteira"
      ]
    },
    {
      "cell_type": "code",
      "metadata": {
        "id": "daSYNb9A_n4d"
      },
      "source": [
        "5 // 2"
      ],
      "execution_count": null,
      "outputs": []
    },
    {
      "cell_type": "markdown",
      "metadata": {
        "id": "C7WfdiDT_qHk"
      },
      "source": [
        ">>Resto do divisão"
      ]
    },
    {
      "cell_type": "code",
      "metadata": {
        "id": "Jk7a32fn_rgE"
      },
      "source": [
        "5 % 2"
      ],
      "execution_count": null,
      "outputs": []
    },
    {
      "cell_type": "markdown",
      "metadata": {
        "id": "6bBVKp6Z_vAN"
      },
      "source": [
        ">Expressões"
      ]
    },
    {
      "cell_type": "code",
      "metadata": {
        "id": "1fG8eFQZ_xic"
      },
      "source": [
        "10 - 5 + 20 -4"
      ],
      "execution_count": null,
      "outputs": []
    },
    {
      "cell_type": "code",
      "metadata": {
        "id": "td5vr4RH_zpT"
      },
      "source": [
        "((2+3)*(4-2)) ** 2"
      ],
      "execution_count": null,
      "outputs": []
    },
    {
      "cell_type": "markdown",
      "metadata": {
        "id": "Jgv-JTLG_6X2"
      },
      "source": [
        "###Variáveis"
      ]
    },
    {
      "cell_type": "markdown",
      "metadata": {
        "id": "GoqpKapA_7-V"
      },
      "source": [
        ">Variáveis de texto"
      ]
    },
    {
      "cell_type": "code",
      "metadata": {
        "id": "KSU1ktEc_94j"
      },
      "source": [
        "texto = \"Curso de Python para Iniciantes\""
      ],
      "execution_count": null,
      "outputs": []
    },
    {
      "cell_type": "code",
      "metadata": {
        "id": "XeqDGfWOAAs0"
      },
      "source": [
        "texto"
      ],
      "execution_count": null,
      "outputs": []
    },
    {
      "cell_type": "code",
      "metadata": {
        "id": "1MxQhHOGACsE"
      },
      "source": [
        "texto = texto + \" - Aula 02\"\n",
        "texto"
      ],
      "execution_count": null,
      "outputs": []
    },
    {
      "cell_type": "markdown",
      "metadata": {
        "id": "f4zx07haAKre"
      },
      "source": [
        ">Variáveis numéricas"
      ]
    },
    {
      "cell_type": "code",
      "metadata": {
        "id": "GEXW2NUDAN6s"
      },
      "source": [
        "soma = 0\n",
        "soma"
      ],
      "execution_count": null,
      "outputs": []
    },
    {
      "cell_type": "markdown",
      "metadata": {
        "id": "f_Ikii_5AQ5A"
      },
      "source": [
        ">>Incrementando / Decrementando"
      ]
    },
    {
      "cell_type": "code",
      "metadata": {
        "id": "JeIIp8A3AT98"
      },
      "source": [
        "soma = soma + 1 \n",
        "soma"
      ],
      "execution_count": null,
      "outputs": []
    },
    {
      "cell_type": "code",
      "metadata": {
        "id": "K-GDT7-oAV91"
      },
      "source": [
        "soma += 1\n",
        "soma"
      ],
      "execution_count": null,
      "outputs": []
    },
    {
      "cell_type": "code",
      "metadata": {
        "id": "ge8btTZRAZrU"
      },
      "source": [
        "soma -= 1\n",
        "soma"
      ],
      "execution_count": null,
      "outputs": []
    },
    {
      "cell_type": "code",
      "metadata": {
        "id": "779pbLCIAcdU"
      },
      "source": [
        "soma = soma -1"
      ],
      "execution_count": null,
      "outputs": []
    },
    {
      "cell_type": "code",
      "metadata": {
        "id": "x99HfCUmAgc8"
      },
      "source": [
        "soma"
      ],
      "execution_count": null,
      "outputs": []
    },
    {
      "cell_type": "markdown",
      "metadata": {
        "id": "yrEilVhIAkEE"
      },
      "source": [
        "###Listas"
      ]
    },
    {
      "cell_type": "markdown",
      "metadata": {
        "id": "LAuUNA3fAlvt"
      },
      "source": [
        ">Criando e selecionando Elementos"
      ]
    },
    {
      "cell_type": "code",
      "metadata": {
        "id": "ZGkOFitiAobD"
      },
      "source": [
        "frutas = ['maça', 'banana', 'laranja']\n",
        "frutas"
      ],
      "execution_count": null,
      "outputs": []
    },
    {
      "cell_type": "code",
      "metadata": {
        "id": "O0r8eXioAuV8"
      },
      "source": [
        "frutas[2]"
      ],
      "execution_count": null,
      "outputs": []
    },
    {
      "cell_type": "code",
      "metadata": {
        "id": "ORQEgzXcA03M"
      },
      "source": [
        "numeros = [1,2,3,4,5]\n",
        "numeros"
      ],
      "execution_count": null,
      "outputs": []
    },
    {
      "cell_type": "code",
      "metadata": {
        "id": "Xc0J87IIA4QE"
      },
      "source": [
        "lista = ['a', 'b', 'c', frutas, numeros]\n",
        "lista"
      ],
      "execution_count": null,
      "outputs": []
    },
    {
      "cell_type": "code",
      "metadata": {
        "id": "rqdbN8sDBCZt"
      },
      "source": [
        "lista[3]"
      ],
      "execution_count": null,
      "outputs": []
    },
    {
      "cell_type": "code",
      "metadata": {
        "id": "2VUIsz98BKTb"
      },
      "source": [
        "lista[3][1]"
      ],
      "execution_count": null,
      "outputs": []
    },
    {
      "cell_type": "code",
      "metadata": {
        "id": "oxihBkXkBOu0"
      },
      "source": [
        "lista[:2]"
      ],
      "execution_count": null,
      "outputs": []
    },
    {
      "cell_type": "code",
      "metadata": {
        "id": "8lwLUokjBTdU"
      },
      "source": [
        "lista[2:]"
      ],
      "execution_count": null,
      "outputs": []
    },
    {
      "cell_type": "code",
      "metadata": {
        "id": "j7Y4dCI_BU3c"
      },
      "source": [
        "lista[2:4]"
      ],
      "execution_count": null,
      "outputs": []
    },
    {
      "cell_type": "markdown",
      "metadata": {
        "id": "Wh508Z7bBbIj"
      },
      "source": [
        ">Adicionando e removendo elementos"
      ]
    },
    {
      "cell_type": "code",
      "metadata": {
        "id": "mSf0_L2RBdy0"
      },
      "source": [
        "frutas.append('goiaba')\n",
        "frutas"
      ],
      "execution_count": null,
      "outputs": []
    },
    {
      "cell_type": "code",
      "metadata": {
        "id": "7Gos5rnfBizL"
      },
      "source": [
        "frutas.pop()\n",
        "frutas"
      ],
      "execution_count": null,
      "outputs": []
    },
    {
      "cell_type": "code",
      "metadata": {
        "id": "puaaebPSBpnt"
      },
      "source": [
        "frutas.pop(0)\n",
        "frutas"
      ],
      "execution_count": null,
      "outputs": []
    },
    {
      "cell_type": "markdown",
      "metadata": {
        "id": "Gizis5fyBvbc"
      },
      "source": [
        ">Alterando Elementos"
      ]
    },
    {
      "cell_type": "code",
      "metadata": {
        "id": "h9Weq6KUByE7"
      },
      "source": [
        "frutas[0] = 'pera'\n",
        "frutas"
      ],
      "execution_count": null,
      "outputs": []
    },
    {
      "cell_type": "markdown",
      "metadata": {
        "id": "t9fLZ9SdB9jo"
      },
      "source": [
        "###Tuplas"
      ]
    },
    {
      "cell_type": "code",
      "metadata": {
        "id": "LVDIMzBfB_RD"
      },
      "source": [
        "marcas = 'gm', 'ford', 'fiat', 'vw'\n",
        "marcas"
      ],
      "execution_count": null,
      "outputs": []
    },
    {
      "cell_type": "code",
      "metadata": {
        "id": "DkT11NHjCGqk"
      },
      "source": [
        "marcas[2]"
      ],
      "execution_count": null,
      "outputs": []
    },
    {
      "cell_type": "markdown",
      "metadata": {
        "id": "qs2D_55bCLDc"
      },
      "source": [
        ">A diferença principal entre Listas e Tuplas é que os elementos de tuplas não podem ser alterados"
      ]
    },
    {
      "cell_type": "code",
      "metadata": {
        "id": "K0KifjDkCSC7"
      },
      "source": [
        "marcas[0] = 'ferrari'"
      ],
      "execution_count": null,
      "outputs": []
    },
    {
      "cell_type": "markdown",
      "metadata": {
        "id": "DI-stsduCXKV"
      },
      "source": [
        "###Dicionários"
      ]
    },
    {
      "cell_type": "code",
      "metadata": {
        "id": "-XPOk5ZHCZDa"
      },
      "source": [
        "notas = {'portugues':8, 'ingles':7.4, 'matematica':9}\n",
        "notas"
      ],
      "execution_count": null,
      "outputs": []
    },
    {
      "cell_type": "code",
      "metadata": {
        "id": "VMXsliHcCip7"
      },
      "source": [
        "pessoa = {'nome':'João', 'idade':25, 'profissão':'pintor'}\n",
        "pessoa"
      ],
      "execution_count": null,
      "outputs": []
    },
    {
      "cell_type": "code",
      "metadata": {
        "id": "L58Xv9jjCsCr"
      },
      "source": [
        "times = {1:'Flamengo', 2:'São Paulo', 3:'Grêmio'}\n",
        "times"
      ],
      "execution_count": null,
      "outputs": []
    },
    {
      "cell_type": "markdown",
      "metadata": {
        "id": "NXf3Wq66C2L8"
      },
      "source": [
        ">Selecionando Elementos"
      ]
    },
    {
      "cell_type": "code",
      "metadata": {
        "id": "6kz5mt9pC6_E"
      },
      "source": [
        "notas['matematica']"
      ],
      "execution_count": null,
      "outputs": []
    },
    {
      "cell_type": "code",
      "metadata": {
        "id": "VXWjz9LpC-97"
      },
      "source": [
        "pessoa['nome']"
      ],
      "execution_count": null,
      "outputs": []
    },
    {
      "cell_type": "code",
      "metadata": {
        "id": "WBR1WbzmDGj7"
      },
      "source": [
        "times[3]"
      ],
      "execution_count": null,
      "outputs": []
    },
    {
      "cell_type": "markdown",
      "metadata": {
        "id": "p06riWA5DQM7"
      },
      "source": [
        ">Alterando elementos"
      ]
    },
    {
      "cell_type": "code",
      "metadata": {
        "id": "KwSyNxFWDR5S"
      },
      "source": [
        "notas['matematica'] = 10\n",
        "notas"
      ],
      "execution_count": null,
      "outputs": []
    },
    {
      "cell_type": "code",
      "metadata": {
        "id": "tKHtGjdKDWr-"
      },
      "source": [
        "times[2] = \"Palmeiras\"\n",
        "times"
      ],
      "execution_count": null,
      "outputs": []
    },
    {
      "cell_type": "code",
      "metadata": {
        "id": "lpJM1NKbDdPj"
      },
      "source": [
        ""
      ],
      "execution_count": null,
      "outputs": []
    },
    {
      "cell_type": "markdown",
      "metadata": {
        "id": "jHdaqgogDhGR"
      },
      "source": [
        ">Adicionando Elementos"
      ]
    },
    {
      "cell_type": "code",
      "metadata": {
        "id": "oyFTe6fLDitR"
      },
      "source": [
        "notas[\"geografia\"] = 7.1\n",
        "notas"
      ],
      "execution_count": null,
      "outputs": []
    },
    {
      "cell_type": "code",
      "metadata": {
        "id": "8mSKtU1cDmqC"
      },
      "source": [
        "times[85] = \"Vasco\"\n",
        "times"
      ],
      "execution_count": null,
      "outputs": []
    },
    {
      "cell_type": "markdown",
      "metadata": {
        "id": "hXUy7Bb8DuFd"
      },
      "source": [
        "###If /Else"
      ]
    },
    {
      "cell_type": "code",
      "metadata": {
        "id": "wZwFH-DeDwLz"
      },
      "source": [
        "x = 1\n",
        "y = 5"
      ],
      "execution_count": null,
      "outputs": []
    },
    {
      "cell_type": "markdown",
      "metadata": {
        "id": "XvRbB2X8D0rb"
      },
      "source": [
        ">Operadores Lógicos"
      ]
    },
    {
      "cell_type": "code",
      "metadata": {
        "id": "Q8vqGOO8D3HL"
      },
      "source": [
        "x == 1"
      ],
      "execution_count": null,
      "outputs": []
    },
    {
      "cell_type": "code",
      "metadata": {
        "id": "kG4XR-uyD4Ei"
      },
      "source": [
        "x == 2"
      ],
      "execution_count": null,
      "outputs": []
    },
    {
      "cell_type": "code",
      "metadata": {
        "id": "OQ2RHwbeD5Oj"
      },
      "source": [
        "x < 0"
      ],
      "execution_count": null,
      "outputs": []
    },
    {
      "cell_type": "code",
      "metadata": {
        "id": "7IbOn9dPD6dK"
      },
      "source": [
        "x >= 0"
      ],
      "execution_count": null,
      "outputs": []
    },
    {
      "cell_type": "code",
      "metadata": {
        "id": "jqeFsRK3D8Ek"
      },
      "source": [
        "x != 0"
      ],
      "execution_count": null,
      "outputs": []
    },
    {
      "cell_type": "code",
      "metadata": {
        "id": "ByMURRoYD-Ui"
      },
      "source": [
        "(x > 0) and (y < 2)"
      ],
      "execution_count": null,
      "outputs": []
    },
    {
      "cell_type": "code",
      "metadata": {
        "id": "1FX3ho3yEDKS"
      },
      "source": [
        "(x > 0) or (y < 2)"
      ],
      "execution_count": null,
      "outputs": []
    },
    {
      "cell_type": "markdown",
      "metadata": {
        "id": "lWlD_ZbHEJGb"
      },
      "source": [
        ">Identação Obrigatória"
      ]
    },
    {
      "cell_type": "code",
      "metadata": {
        "id": "BNEGm3snELSE"
      },
      "source": [
        "x = 5\n",
        "if (x > 0):\n",
        "  print(\"x é maior que zero\") \n",
        "else:\n",
        "  print(\"x é menor ou igual a zero\")"
      ],
      "execution_count": null,
      "outputs": []
    },
    {
      "cell_type": "code",
      "metadata": {
        "id": "e5eHXvY-EtSm"
      },
      "source": [
        "x = -5\n",
        "if (x > 0):\n",
        "  print(\"x é maior que zero\") \n",
        "elif(x == 0):\n",
        "  print(\"x é zero\")\n",
        "else:\n",
        "  print(\"x é menor\")"
      ],
      "execution_count": null,
      "outputs": []
    },
    {
      "cell_type": "markdown",
      "metadata": {
        "id": "FWgc9fYjIulT"
      },
      "source": [
        "###FOR"
      ]
    },
    {
      "cell_type": "code",
      "metadata": {
        "id": "MihSEYyXIwAA"
      },
      "source": [
        "contador = [0,1,2,3,4,5,6,7,8,9]\n",
        "contador"
      ],
      "execution_count": null,
      "outputs": []
    },
    {
      "cell_type": "code",
      "metadata": {
        "id": "w4ey8TdyI0Yw"
      },
      "source": [
        "for valor in contador:\n",
        "  print(valor)"
      ],
      "execution_count": null,
      "outputs": []
    },
    {
      "cell_type": "code",
      "metadata": {
        "id": "uQluBdaHI4WA"
      },
      "source": [
        "range?"
      ],
      "execution_count": null,
      "outputs": []
    },
    {
      "cell_type": "code",
      "metadata": {
        "id": "PIBlnmC8I68o"
      },
      "source": [
        "for valor in range(10):\n",
        "  print(valor)"
      ],
      "execution_count": null,
      "outputs": []
    },
    {
      "cell_type": "code",
      "metadata": {
        "id": "tVxeupyDJCrw"
      },
      "source": [
        "for i in range(4,18,2):\n",
        "  print(i)"
      ],
      "execution_count": null,
      "outputs": []
    },
    {
      "cell_type": "code",
      "metadata": {
        "id": "rfg1_WAFJJ2I"
      },
      "source": [
        "cidades = ['São Paulo', 'Brasília', 'Curitiba']\n",
        "cidades"
      ],
      "execution_count": null,
      "outputs": []
    },
    {
      "cell_type": "code",
      "metadata": {
        "id": "0eSxVOAzJSpQ"
      },
      "source": [
        "for cidade in cidades:\n",
        "  print(\"Já morei em \"+cidade)"
      ],
      "execution_count": null,
      "outputs": []
    },
    {
      "cell_type": "code",
      "metadata": {
        "id": "TbB9UxQ3JYu4"
      },
      "source": [
        "minha_lista = [1,2,3,'cachorro','gato','papagaio']\n",
        "minha_lista"
      ],
      "execution_count": null,
      "outputs": []
    },
    {
      "cell_type": "code",
      "metadata": {
        "id": "T1MveG8WJgew"
      },
      "source": [
        "for cada_item in minha_lista:\n",
        "  print(cada_item)"
      ],
      "execution_count": null,
      "outputs": []
    },
    {
      "cell_type": "markdown",
      "metadata": {
        "id": "DvkM3LAuJnd_"
      },
      "source": [
        "###WHILE"
      ]
    },
    {
      "cell_type": "code",
      "metadata": {
        "id": "0NB-FBN8Jo3X"
      },
      "source": [
        "x = 0\n",
        "while x < 5:\n",
        "  print(x)\n",
        "  x = x + 1"
      ],
      "execution_count": null,
      "outputs": []
    },
    {
      "cell_type": "markdown",
      "metadata": {
        "id": "IVkSdvvKJzOj"
      },
      "source": [
        "###List Comprehensions"
      ]
    },
    {
      "cell_type": "code",
      "metadata": {
        "id": "CINdH-V_J3L_"
      },
      "source": [
        "quadrados = []\n",
        "for numero in range(10):\n",
        "  quadrados.append(numero**2)\n",
        "\n",
        "quadrados"
      ],
      "execution_count": null,
      "outputs": []
    },
    {
      "cell_type": "markdown",
      "metadata": {
        "id": "TK0QKYPaKDbZ"
      },
      "source": [
        ">Uma maneira mais concisa de criar listas"
      ]
    },
    {
      "cell_type": "code",
      "metadata": {
        "id": "KcE-ActiKH-f"
      },
      "source": [
        "quad = [x**2 for x in range(10)]\n",
        "quad"
      ],
      "execution_count": null,
      "outputs": []
    },
    {
      "cell_type": "markdown",
      "metadata": {
        "id": "kfatEmzSKa9I"
      },
      "source": [
        "###Funções"
      ]
    },
    {
      "cell_type": "markdown",
      "metadata": {
        "id": "gOajgTI3Kcp5"
      },
      "source": [
        ">Função que não retorna valor"
      ]
    },
    {
      "cell_type": "code",
      "metadata": {
        "id": "uqrtCOGiKg8X"
      },
      "source": [
        "def exibir_mensagem(parametro):\n",
        "  print(\"Mensagem >> \"+parametro)"
      ],
      "execution_count": null,
      "outputs": []
    },
    {
      "cell_type": "code",
      "metadata": {
        "id": "rFj2mPRrKpUv"
      },
      "source": [
        "exibir_mensagem('Olá!!!')"
      ],
      "execution_count": null,
      "outputs": []
    },
    {
      "cell_type": "code",
      "metadata": {
        "id": "N6bgDPNbKsRg"
      },
      "source": [
        "exibir_mensagem('Ola Mundo!')"
      ],
      "execution_count": null,
      "outputs": []
    },
    {
      "cell_type": "code",
      "metadata": {
        "id": "ZD1jk5VXK2Km"
      },
      "source": [
        "def exibir_dados(nome, idade):\n",
        "  print(\"Meu nome é {}\".format(nome))\n",
        "  print(\"Tenho {} anos.\".format(idade))"
      ],
      "execution_count": null,
      "outputs": []
    },
    {
      "cell_type": "code",
      "metadata": {
        "id": "o1S8eVq9LEo_"
      },
      "source": [
        "exibir_dados('Maria', 70)"
      ],
      "execution_count": null,
      "outputs": []
    },
    {
      "cell_type": "code",
      "metadata": {
        "id": "F0q2-u_4LKUf"
      },
      "source": [
        "exibir_dados('Paulo', 12)"
      ],
      "execution_count": null,
      "outputs": []
    },
    {
      "cell_type": "code",
      "metadata": {
        "id": "o5RecLIuLNwn"
      },
      "source": [
        ""
      ],
      "execution_count": null,
      "outputs": []
    },
    {
      "cell_type": "markdown",
      "metadata": {
        "id": "Zb_MLJtcLPYn"
      },
      "source": [
        ">Função que retorna valor"
      ]
    },
    {
      "cell_type": "code",
      "metadata": {
        "id": "CSesVFpxLRMv"
      },
      "source": [
        "def elevar_ao_quadrado(numero):\n",
        "  return numero ** 2"
      ],
      "execution_count": null,
      "outputs": []
    },
    {
      "cell_type": "code",
      "metadata": {
        "id": "BHaJecMNLY02"
      },
      "source": [
        "elevar_ao_quadrado(2)"
      ],
      "execution_count": null,
      "outputs": []
    },
    {
      "cell_type": "code",
      "metadata": {
        "id": "LsR8MI0lLaTn"
      },
      "source": [
        "elevar_ao_quadrado(25)"
      ],
      "execution_count": null,
      "outputs": []
    },
    {
      "cell_type": "code",
      "metadata": {
        "id": "rK-jcn3nkM6a"
      },
      "source": [
        ""
      ],
      "execution_count": null,
      "outputs": []
    },
    {
      "cell_type": "markdown",
      "metadata": {
        "id": "hW-SggJnkOMC"
      },
      "source": [
        "###Bibliotecas"
      ]
    },
    {
      "cell_type": "markdown",
      "metadata": {
        "id": "PKQX8tRm0qWG"
      },
      "source": [
        ">Já Instaladas no Ambiente (Google Colab)"
      ]
    },
    {
      "cell_type": "code",
      "metadata": {
        "id": "ySATJrK90ssw"
      },
      "source": [
        "import numpy"
      ],
      "execution_count": null,
      "outputs": []
    },
    {
      "cell_type": "code",
      "metadata": {
        "id": "FOXSJPTrSwU3"
      },
      "source": [
        "numpy.ones(5)"
      ],
      "execution_count": null,
      "outputs": []
    },
    {
      "cell_type": "code",
      "metadata": {
        "id": "EzkJY4eZSwY-"
      },
      "source": [
        "import numpy as np"
      ],
      "execution_count": null,
      "outputs": []
    },
    {
      "cell_type": "code",
      "metadata": {
        "id": "pr1yl2XcSwpL"
      },
      "source": [
        "np.ones(5)"
      ],
      "execution_count": null,
      "outputs": []
    },
    {
      "cell_type": "code",
      "metadata": {
        "id": "6INTSW0rSFpN"
      },
      "source": [
        "from numpy import ones"
      ],
      "execution_count": null,
      "outputs": []
    },
    {
      "cell_type": "code",
      "metadata": {
        "id": "Pgk_VZh3Sxo4"
      },
      "source": [
        "ones(5)"
      ],
      "execution_count": null,
      "outputs": []
    },
    {
      "cell_type": "markdown",
      "metadata": {
        "id": "l_FnT1ZhR5JC"
      },
      "source": [
        ">Instalando Bibliotecas Externas"
      ]
    },
    {
      "cell_type": "code",
      "metadata": {
        "id": "UWrpADA7R_Yz"
      },
      "source": [
        "!pip install yfinance"
      ],
      "execution_count": null,
      "outputs": []
    },
    {
      "cell_type": "code",
      "metadata": {
        "id": "QzwZqtFWTuL-"
      },
      "source": [
        "import yfinance as yf"
      ],
      "execution_count": null,
      "outputs": []
    },
    {
      "cell_type": "code",
      "metadata": {
        "id": "xpby4tfvTx7X"
      },
      "source": [
        "yf.download('^BVSP')"
      ],
      "execution_count": null,
      "outputs": []
    },
    {
      "cell_type": "code",
      "metadata": {
        "id": "M65KaqCVT2zN"
      },
      "source": [
        ""
      ],
      "execution_count": null,
      "outputs": []
    }
  ]
}